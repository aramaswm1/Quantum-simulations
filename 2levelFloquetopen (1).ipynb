{
 "cells": [
  {
   "cell_type": "code",
   "execution_count": 30,
   "id": "02ab82be-1436-4464-94c5-e6f10a15d53a",
   "metadata": {
    "tags": []
   },
   "outputs": [],
   "source": [
    "# %matplotlib inline\n",
    "'''Module Import'''\n",
    "import matplotlib.pyplot as plt  # Import library for direct plotting functions\n",
    "import numpy as np\n",
    "import scipy as sp\n",
    "# Import Numerical Python\n",
    "from IPython.core.display import display, HTML #Import HTML for formatting output\n",
    "import arc\n",
    "from arc import *\n",
    "from sympy import*\n",
    "import sympy as sym\n",
    "import scipy.linalg as ling\n",
    "import numpy.linalg as nling\n",
    "from sympy.physics.quantum import TensorProduct as tens\n",
    "from sympy import Matrix\n",
    "import itertools\n",
    "from itertools import combinations\n",
    "from qutip import *\n",
    "import pandas as pd\n",
    "from IPython.display import display, Math, Latex\n",
    "\n",
    "import scipy.integrate as integrate\n",
    "import scipy.special as special\n",
    "from scipy import interpolate\n",
    "import itertools as iter\n",
    "import csv\n",
    "\n",
    "'''Constants'''\n",
    "#Time units in ps (10E-12)\n",
    "qe=1.609E-19 #Charge\n",
    "eps0=8.8541878128E-12 #Free Space Permittivity\n",
    "mu0=4.0*pi*1E-7 #Free Space Permeability\n",
    "hbar=1.0545718E-34 #Reduced Planck's constant\n",
    "c=2.99792458E-4 #Speed of Light\n",
    "e=1.60217662E-19 #Charge\n",
    "a_0=5.291772109E-11 #Debye\n",
    "ea_0 = 8.51161e-30\n",
    "\n",
    "'''Transition Rates'''\n",
    "\n",
    "\n",
    "\n",
    "\n",
    "\n",
    "use_rwa = True #Use Rotoating Wave Approximation (N/A)\n",
    "\n",
    "\n",
    "#Gauge argument in exponential matrix term\n",
    "def F(tx, args):\n",
    "    d = args['Delta1']\n",
    "    R0 = args['Rabi']\n",
    "    nt= args['Nterms']\n",
    "    A = args['ModAmp']\n",
    "    tl0 = args['t_l']\n",
    "    tc0 = args['t_c']\n",
    "    tm0 = args['t_m']\n",
    "    tau = args['tau']\n",
    "    wmod = args['wmod']\n",
    "    w0 = args['w_0']\n",
    "    wl = args['w_0']+d\n",
    "    M0 = argz['ModAmp']*argz['t_c']**2/(2.0*np.pi)\n",
    "    t=tx-0.0*np.floor((tx)/(2.0*tm0))*2.0*tm0\n",
    "    sums = 0\n",
    "    sumf = 0\n",
    "    for i in [-1,0,1]:\n",
    "        #for k in [3.0]:\n",
    "        for k in np.arange(-nt,nt+1,1):\n",
    "            tc = args['t_c']+i*2.0*args['t_m']\n",
    "            tm = args['t_m']+i*2.0*args['t_m']\n",
    "            tl = args['t_l']+i*2.0*args['t_m']\n",
    "            \n",
    "        \n",
    "        \n",
    "        \n",
    "            sums+=-0.5*np.sqrt(np.pi/2.0)*tau*(1j)**k*R0*\\\n",
    "                    (special.jv(k,A)*(np.exp((tc-tx+1j*tau**2*((wl+k*wmod)))**2/(2.0*tau**2))-\\\n",
    "                    special.erfcx((tc-tx+1j*tau**2*((wl+k*wmod)))/(np.sqrt(2.0)*tau)))*\\\n",
    "                    np.exp(1j*(tx*(wl+k*(wmod))-tc*(wl)-tm*(k*wmod))-(tc-tx)**2/(2.0*tau**2))+\\\n",
    "                     special.jv(k,-A)*(np.exp((tc-tx+1j*tau**2*((-wl+k*wmod)))**2/(2.0*tau**2))-\\\n",
    "                      special.erfcx((tc-tx+1j*tau**2*((-wl+k*wmod)))/(np.sqrt(2.0)*tau)))*\\\n",
    "                      np.exp(1j*(tx*(-wl+k*(wmod))-tc*(-wl)-tm*(k*wmod))-(tc-tx)**2/(2.0*tau**2)))\n",
    "\n",
    "            sums+=(1.0-1.0*tx/(2.0*tm0))*0.5*np.sqrt(np.pi/2.0)*tau*(1j)**k*R0*\\\n",
    "                    (special.jv(k,A)*(np.exp((tc-0+1j*tau**2*((wl+k*wmod)))**2/(2.0*tau**2))-\\\n",
    "                    special.erfcx((tc-0+1j*tau**2*((wl+k*wmod)))/(np.sqrt(2.0)*tau)))*\\\n",
    "                    np.exp(1j*(0*(wl+k*(wmod))-tc*(wl)-tm*(k*wmod))-(tc-0)**2/(2.0*tau**2))+\\\n",
    "                     special.jv(k,-A)*(np.exp((tc-0+1j*tau**2*((-wl+k*wmod)))**2/(2.0*tau**2))-\\\n",
    "                      special.erfcx((tc-0+1j*tau**2*((-wl+k*wmod)))/(np.sqrt(2.0)*tau)))*\\\n",
    "                      np.exp(1j*(0*(-wl+k*(wmod))-tc*(-wl)-tm*(k*wmod))-(tc-0)**2/(2.0*tau**2)))\n",
    "\n",
    "\n",
    "            sumf+=1.0*tx/(2.0*tm0)*0.5*np.sqrt(np.pi/2.0)*tau*(1j)**k*R0*\\\n",
    "                    (special.jv(k,A)*(np.exp((tc-2.0*tm0+1j*tau**2*((wl+k*wmod)))**2/(2.0*tau**2))-\\\n",
    "                    special.erfcx((tc-2.0*tm0+1j*tau**2*((wl+k*wmod)))/(np.sqrt(2.0)*tau)))*\\\n",
    "                    np.exp(1j*(2.0*tm0*(wl+k*(wmod))-tc*(wl)-tm*(k*wmod))-(tc-2.0*tm0)**2/(2.0*tau**2))+\\\n",
    "                     special.jv(k,-A)*(np.exp((tc-2.0*tm0+1j*tau**2*((-wl+k*wmod)))**2/(2.0*tau**2))-\\\n",
    "                      special.erfcx((tc-2.0*tm0+1j*tau**2*((-wl+k*wmod)))/(np.sqrt(2.0)*tau)))*\\\n",
    "                      np.exp(1j*(2.0*tm0*(-wl+k*(wmod))-tc*(-wl)-tm*(k*wmod))-(tc-2.0*tm0)**2/(2.0*tau**2)))\n",
    "        \n",
    "    return sums+1.0*sumf\n",
    "\n",
    "\n",
    "def L(args):\n",
    "    d = args['Delta1']\n",
    "    R0 = args['Rabi']\n",
    "    nt= args['Nterms']\n",
    "    A = args['ModAmp']\n",
    "    tl0 = args['t_l']\n",
    "    tc0 = args['t_c']\n",
    "    tm0 = args['t_m']\n",
    "    tau = args['tau']\n",
    "    wmod = args['wmod']\n",
    "    w0 = args['w_0']\n",
    "    wl = w0+d\n",
    "    M0 = argz['ModAmp']*argz['t_c']**2/(2.0*np.pi)\n",
    "\n",
    "    sums = 0\n",
    "    sumf = 0\n",
    "    for i in [-1,0,1]:\n",
    "        #for k in [3.0]:\n",
    "        for k in np.arange(-nt,nt+1,1):\n",
    "            tc = args['t_c']+i*2.0*args['t_m']\n",
    "            tm = args['t_m']+i*2.0*args['t_m']\n",
    "            tl = args['t_l']+i*2.0*args['t_m']\n",
    "  \n",
    "            sums+=(-1.0/(2.0*tm0))*0.5*np.sqrt(np.pi/2.0)*tau*(1j)**k*R0*\\\n",
    "                    (special.jv(k,A)*(np.exp((tc-0+1j*tau**2*((wl+k*wmod)))**2/(2.0*tau**2))-\\\n",
    "                    special.erfcx((tc-0+1j*tau**2*((wl+k*wmod)))/(np.sqrt(2.0)*tau)))*\\\n",
    "                    np.exp(1j*(0*(wl+k*(wmod))-tc*(wl)-tm*(k*wmod))-(tc-0)**2/(2.0*tau**2))+\\\n",
    "                     special.jv(k,-A)*(np.exp((tc-0+1j*tau**2*((-wl+k*wmod)))**2/(2.0*tau**2))-\\\n",
    "                      special.erfcx((tc-0+1j*tau**2*((-wl+k*wmod)))/(np.sqrt(2.0)*tau)))*\\\n",
    "                      np.exp(1j*(0*(-wl+k*(wmod))-tc*(-wl)-tm*(k*wmod))-(tc-0)**2/(2.0*tau**2)))\n",
    "\n",
    "\n",
    "            sumf+=1.0/(2.0*tm0)*0.5*np.sqrt(np.pi/2.0)*tau*(1j)**k*R0*\\\n",
    "                    (special.jv(k,A)*(np.exp((tc-2.0*tm0+1j*tau**2*((wl+k*wmod)))**2/(2.0*tau**2))-\\\n",
    "                    special.erfcx((tc-2.0*tm0+1j*tau**2*((wl+k*wmod)))/(np.sqrt(2.0)*tau)))*\\\n",
    "                    np.exp(1j*(2.0*tm0*(wl+k*(wmod))-tc*(wl)-tm*(k*wmod))-(tc-2.0*tm0)**2/(2.0*tau**2))+\\\n",
    "                     special.jv(k,-A)*(np.exp((tc-2.0*tm0+1j*tau**2*((-wl+k*wmod)))**2/(2.0*tau**2))-\\\n",
    "                      special.erfcx((tc-2.0*tm0+1j*tau**2*((-wl+k*wmod)))/(np.sqrt(2.0)*tau)))*\\\n",
    "                      np.exp(1j*(2.0*tm0*(-wl+k*(wmod))-tc*(-wl)-tm*(k*wmod))-(tc-2.0*tm0)**2/(2.0*tau**2)))\n",
    "        \n",
    "    return sums+1.0*sumf\n",
    "\n",
    "\n",
    "            \n",
    "\n",
    "#Lindbladian superoperator in interaction operator (removing w0/2 bare state energies)\n",
    "\n",
    "\n",
    "#System, Field, Charge parameters. Dictionary used to store values for convenience\n",
    "argz = {'Rabi': 1.0E-1*2.0*np.pi, 'tau': 0.7*1.0/8.0*1.0E0,'t_c': 1.0/4.0*1.0E0, 't_l': 1.0/4.0*1.0E0, 't_m': 1.0/4.0*1.0E0,\n",
    "        'PMphase': 0.0, 'OSphase':0.0,'Grdephase':0.0,'ModAmp': 0.5, 'Delta1': -3.0*2.0E-2*np.pi, 'gamma': 1.0E-6*2.0*np.pi,\n",
    "        'depha12': 0.0E-6, 'w_0': 2.0E-2*np.pi, 'wmod': 2.0E0*np.pi/(0.5),'T': 0.5, 'Nterms':4}\n",
    "\n",
    "def Fxd0(txx,args):\n",
    "    tx=txx-np.round(txx/argz['T'])*argz['T']\n",
    "    term=0.0j+0.0+0.0*L(argz)\n",
    "    for i in [-1,0,1]:\n",
    "            tc = argz['t_c']+i*2.0*argz['t_m']\n",
    "            tm = argz['t_m']+i*2.0*argz['t_m']\n",
    "            tl = argz['t_l']+i*2.0*argz['t_m']\n",
    "        \n",
    "            term+=argz['Rabi']*np.exp(-(tx-tc)**2/(2.0*argz['tau']**2))*\\\n",
    "            np.cos((argz['w_0']+argz['Delta1'])*(tx-tl)+argz['ModAmp']*np.cos((argz['wmod'])*(tx-tm)))\n",
    "            \n",
    "            \n",
    "    return term\n",
    "\n",
    "\n",
    "\n",
    "                                                                                                         \n",
    "    \n",
    "times=np.linspace(0.0,2.0*argz['t_m'],1000)\n",
    "timesev=np.linspace(0.0,2.0*argz['t_m'],1000)\n",
    "\n",
    "#Gauge function interpolant\n",
    "Fdata=F(timesev, argz)    \n",
    "Fxds = Fxd0(timesev,argz)\n",
    "Fxs = interpolate.splrep(timesev, Fdata,s=0)\n",
    "Fxds = interpolate.splrep(timesev, Fxds,s=0)\n",
    "xnew = np.linspace(0.0,2.0*argz['t_m'],5000)\n",
    "#ynew = interpolate.splev(xnew, tckr, der=0)\n",
    "\n",
    "\n",
    "def Rot(tx,args):\n",
    "    wmod = args['wmod']\n",
    "    tm = args['t_m']\n",
    "    t=tx-1.0*np.floor((tx)/(2.0*tm))*2.0*tm\n",
    "    Fx=interpolate.splev(t,Fxs)\n",
    "    Ax=np.cos(Fx)\n",
    "    Bx=np.sin(Fx)\n",
    "\n",
    "    Rotx=np.array([[Ax,1.0j*Bx],[1.0j*Bx,Ax]])\n",
    "    return Rotx\n",
    "\n",
    "def Rotd(tx,args):\n",
    "    wmod = args['wmod']\n",
    "    tm = args['t_m']\n",
    "    t=tx-0.0*np.floor((tx)/(2.0*tm))*2.0*tm\n",
    "    Fx=interpolate.splev(t,Fxrs)+1.0j*interpolate.splev(t,Fxis)\n",
    "    Fxd=interpolate.splev(t,Fxdrs)+1.0j*interpolate.splev(t,Fxdis)\n",
    "    Fxad=interpolate.splev(t,Fxadd)\n",
    "    #display(Fxad)\n",
    "    j0=special.sinc(0.5*np.abs(Fx)/np.pi)\n",
    "    j0d=0.5*special.spherical_jn(0,0.5*np.abs(Fx),derivative=True)*Fxad\n",
    "    j1=special.sinc(np.abs(Fx)/np.pi)\n",
    "    j1d=special.spherical_jn(0,np.abs(Fx),derivative=True)*Fxad\n",
    "    #display(j1d)\n",
    "    B1c=-np.imag((Fx))*np.imag(Fxd)*special.sinc(0.5*np.abs(Fx)/np.pi)**2-2*np.imag((Fx))**2*special.sinc(0.5*np.abs(Fx)/np.pi)*j0d\n",
    "    B2c=-np.real((Fx))*np.real(Fxd)*special.sinc(0.5*np.abs(Fx)/np.pi)**2-2*np.real((Fx))**2*special.sinc(0.5*np.abs(Fx)/np.pi)*j0d\n",
    "    B3c=-np.sin(np.abs(Fx))*Fxad\n",
    "    A1c=-1/2*np.imag((Fxd))*np.real((Fx))*special.sinc(0.5*np.abs(Fx)/np.pi)**2-\\\n",
    "        1/2*np.imag((Fx))*np.real((Fxd))*special.sinc(0.5*np.abs(Fx)/np.pi)**2-2*np.imag((Fx))*np.real((Fx))*special.sinc(0.5*np.abs(Fx)/np.pi)*j0d\n",
    "    E1c=np.imag((Fxd))*special.sinc(np.abs(Fx)/np.pi)+np.imag((Fx))*j1d\n",
    "    #display(E1c)\n",
    "    C1c=np.real(Fxd)*special.sinc(np.abs(Fx)/np.pi)+np.real((Fx))*j1d\n",
    "    Rotx=np.array([[B1c,A1c,-E1c,0],[A1c,B2c,-C1c,0],[E1c,C1c,B3c,0],[0,0,0,0.0]])\n",
    "    \n",
    "    return Rotx\n",
    "\n",
    "#Interpolation for Gauge transformation operator \n",
    "\n",
    "Rotin=np.vectorize(lambda x: Rot(x,argz))\n",
    "Rotdata=np.array([Rotin(t) for t in timesev])\n",
    "Rotint=interpolate.CubicSpline(timesev, Rotdata)\n",
    "Rotintd=Rotint.derivative()\n",
    "\n",
    "A1=integrate.quad(lambda x: 1/(argz['T'])*np.cos(2.0*F(x,argz)),0.0,2.0*argz['t_m'],epsabs=1.0E-12, epsrel=1.0E-12, limit=500)[0]\n",
    "B1=integrate.quad(lambda x: 1/(argz['T'])*np.sin(2.0*F(x,argz)),0.0,2.0*argz['t_m'],epsabs=1.0E-12, epsrel=1.0E-12, limit=500)[0]\n",
    "\n",
    "K0=np.array([[-argz['w_0']/2.0*A1,1.0j*argz['w_0']/2.0*B1-1.0j*L(argz)],\n",
    "   [-1.0j*argz['w_0']/2.0*B1+1.0j*L(argz),argz['w_0']/2.0*A1]])\n",
    "\n",
    "def G(tx,args):\n",
    "    wmod = args['wmod']\n",
    "    tm = args['t_m']\n",
    "    t=tx-1.0*np.floor((tx)/(2.0*tm))*2.0*tm\n",
    "    Fx=interpolate.splev(t,Fxs)\n",
    "    #Commutative\n",
    "    \n",
    "    A1r=integrate.quad(lambda x: np.real(1.0/(2.0*np.pi)*np.cos(2.0*Fx)*np.log(np.exp(1.0j*(np.pi-wmod*(tx-x))))),0.0,2.0*argz['t_m'],epsabs=1.0E-12, epsrel=1.0E-12, limit=200)[0]\n",
    "    A1i=integrate.quad(lambda x: np.imag(1.0/(2.0*np.pi)*np.cos(2.0*Fx)*np.log(np.exp(1.0j*(np.pi-wmod*(tx-x))))),0.0,2.0*argz['t_m'],epsabs=1.0E-12, epsrel=1.0E-12, limit=200)[0]\n",
    "    B1r=integrate.quad(lambda x: np.real(1.0j*1.0/(2.0*np.pi)*np.sin(2.0*Fx)*np.log(np.exp(1.0j*(np.pi-wmod*(tx-x))))),0.0,2.0*argz['t_m'],epsabs=1.0E-12, epsrel=1.0E-12, limit=200)[0]\n",
    "    B1i=integrate.quad(lambda x: np.imag(1.0j*1.0/(2.0*np.pi)*np.sin(2.0*Fx)*np.log(np.exp(1.0j*(np.pi-wmod*(tx-x))))),0.0,2.0*argz['t_m'],epsabs=1.0E-12, epsrel=1.0E-12, limit=200)[0]\n",
    " \n",
    "    Lr=np.array([[-A1r,B1r]\n",
    "                 ,[-B1r,A1r]])\n",
    "    \n",
    "    Li=np.array([[-A1i,B1i]\n",
    "                 ,[-B1i,A1i]])\n",
    "    \n",
    "\n",
    "    \n",
    "    return -(Lr+1.0j*Li)\n",
    "\n",
    "def DG(tx,args):\n",
    "    wmod = args['wmod']\n",
    "    tm = args['t_m']\n",
    "    t=tx-1.0*np.floor((tx)/(2.0*tm))*2.0*tm\n",
    "    Fx=interpolate.splev(t,Fxs)\n",
    "    #Commutative\n",
    "    \n",
    "    A1r=integrate.quad(lambda x: np.real(1.0/(2.0*np.pi)*np.cos(2.0*Fx)*np.log(np.exp(1.0j*(np.pi-wmod*(tx-x))))),0.0,2.0*argz['t_m'],epsabs=1.0E-12, epsrel=1.0E-12, limit=200)[0]\n",
    "    A1i=integrate.quad(lambda x: np.imag(1.0/(2.0*np.pi)*np.cos(2.0*Fx)*np.log(np.exp(1.0j*(np.pi-wmod*(tx-x))))),0.0,2.0*argz['t_m'],epsabs=1.0E-12, epsrel=1.0E-12, limit=200)[0]\n",
    "    B1r=integrate.quad(lambda x: np.real(1.0j*1.0/(2.0*np.pi)*np.sin(2.0*Fx)*np.log(np.exp(1.0j*(np.pi-wmod*(tx-x))))),0.0,2.0*argz['t_m'],epsabs=1.0E-12, epsrel=1.0E-12, limit=200)[0]\n",
    "    B1i=integrate.quad(lambda x: np.imag(1.0j*1.0/(2.0*np.pi)*np.sin(2.0*Fx)*np.log(np.exp(1.0j*(np.pi-wmod*(tx-x))))),0.0,2.0*argz['t_m'],epsabs=1.0E-12, epsrel=1.0E-12, limit=200)[0]\n",
    " \n",
    "    Lr=np.array([[-A1r,B1r]\n",
    "                 ,[-B1r,A1r]])\n",
    "    \n",
    "    Li=np.array([[-A1i,B1i]\n",
    "                 ,[-B1i,A1i]])\n",
    "        \n",
    "    Lxx=-1.0j*(Lr+1.0j*Li)\n",
    "        \n",
    "    qz=np.sqrt(nling.det(Lxx))\n",
    "    \n",
    "    L1=np.cos(qz)*np.array([[1+0j,0+0j],[0+0j,1+0j]])\n",
    "    L2=-np.sin(qz)/qz*Lxx\n",
    "    #display(qz)\n",
    "    \n",
    "    return L1+L2\n",
    "    \n",
    "     "
   ]
  },
  {
   "cell_type": "code",
   "execution_count": 3,
   "id": "aaac0b28-e01c-4782-af6f-7e6390088ccf",
   "metadata": {
    "tags": []
   },
   "outputs": [
    {
     "data": {
      "text/plain": [
       "[<matplotlib.lines.Line2D at 0x1c0f4d5f760>]"
      ]
     },
     "execution_count": 3,
     "metadata": {},
     "output_type": "execute_result"
    },
    {
     "data": {
      "image/png": "[encoded data removed]",
      "text/plain": [
       "<Figure size 432x288 with 1 Axes>"
      ]
     },
     "metadata": {
      "needs_background": "light"
     },
     "output_type": "display_data"
    }
   ],
   "source": [
    "times=np.linspace(0.0,50.0,10000)\n",
    "psilist=[]\n",
    "for k in times:\n",
    "    term=np.matmul(Rot(k*argz['t_m'],argz),np.matmul(ling.expm(-1.0j*K0*k*argz['t_m']),np.array([7.48737487e-01+0.j,-2.32314168e-14+0.66286663j])))\n",
    "    psilist.append(term)\n",
    "\n",
    "\n",
    "fig, ax = plt.subplots(1,1)\n",
    "# Create multiple plots \n",
    "ax.plot(times , np.real(psilist)[:,0], 'r',label=r'$\\Re\\psi_1)$')\n",
    "ax.plot(times , np.imag(psilist)[:,0], 'b',label=r'$\\Im\\psi_1$')\n",
    "ax.plot(times , np.real(psilist)[:,1], 'g',label=r'$\\Re\\psi_2)$')\n",
    "ax.plot(times , np.imag(psilist)[:,1], color='orange',label=r'$\\Im\\psi_2$')\n",
    "\n",
    "# Set title and labels\n"
   ]
  },
  {
   "cell_type": "code",
   "execution_count": 10,
   "id": "8661ffd6-5e1f-475f-b438-f5242639bb2a",
   "metadata": {},
   "outputs": [
    {
     "data": {
      "text/plain": [
       "-0.2590508739599796"
      ]
     },
     "metadata": {},
     "output_type": "display_data"
    },
    {
     "data": {
      "text/plain": [
       "array([7.48737487e-01+0.j        , 3.88578059e-16+0.66286663j])"
      ]
     },
     "metadata": {},
     "output_type": "display_data"
    },
    {
     "data": {
      "text/plain": [
       "array([[ 0.98141664+2.32599483e-02j,  0.19047404-2.97071395e-17j],\n",
       "       [-0.19047404+2.88397778e-17j,  0.98141664-2.32599483e-02j]])"
      ]
     },
     "metadata": {},
     "output_type": "display_data"
    }
   ],
   "source": [
    "e1,e2=np.angle(ling.eig(ling.expm(1.0j*K0*2.0*argz['t_m']))[0])/(2.0*argz['t_m'])\n",
    "display(e1)\n",
    "v1,v2=ling.eig(ling.expm(1.0j*K0*argz['T']))[1]\n",
    "display(v1)\n",
    "display(ling.expm(-1.0j*K0*25.0))"
   ]
  },
  {
   "cell_type": "code",
   "execution_count": 23,
   "id": "2356cfc7-60be-432a-bdf9-1bc01b760e39",
   "metadata": {},
   "outputs": [
    {
     "data": {
      "text/plain": [
       "array([ 0.00384609+1.06390443e-04j, -0.00038048+3.37442678e-03j,\n",
       "        0.00730654+4.05245720e-03j,  0.00359177+6.94223244e-03j,\n",
       "        0.37328596+2.40643351e-02j, -0.02159469+3.30459763e-01j,\n",
       "       -0.00762285-4.13593309e-03j, -0.00364519-7.21504789e-03j,\n",
       "       -0.00387513-5.62436288e-06j,  0.00049879-3.41096392e-03j])"
      ]
     },
     "metadata": {},
     "output_type": "display_data"
    },
    {
     "data": {
      "text/plain": [
       "array([-0.00049879-3.41096392e-03j, -0.00387513+5.62436288e-06j,\n",
       "        0.00364519-7.21504789e-03j, -0.00762285+4.13593309e-03j,\n",
       "        0.02159469+3.30459763e-01j,  0.37328596-2.40643351e-02j,\n",
       "       -0.00359177+6.94223244e-03j,  0.00730654-4.05245720e-03j,\n",
       "        0.00038048+3.37442678e-03j,  0.00384609-1.06390443e-04j])"
      ]
     },
     "metadata": {},
     "output_type": "display_data"
    }
   ],
   "source": [
    "def floquetmodes(tx,k,wc):\n",
    "    t1=tx-1.0*np.floor((tx)/argz['T'])*argz['T']\n",
    "    term1=np.matmul(Rotint(t1),np.matmul(ling.expm(-1.0j*K0*tx),v1))*np.exp(-1.0j*k*wc*tx)\n",
    "    term2=np.matmul(Rotint(t1),np.matmul(ling.expm(-1.0j*K0*tx),v2))*np.exp(-1.0j*k*wc*tx)\n",
    "    return term1,term2\n",
    "fx1lst=[]\n",
    "fx2lst=[]\n",
    "wc1=argz['wmod']\n",
    "Tf=argz['T']\n",
    "for i in [-2,-1,0,1,2]:\n",
    "    term1=integrate.romberg(lambda x: np.real(floquetmodes(x,i,wc1)[0][0]),0.0,Tf)+1.0j*integrate.romberg(lambda x: np.imag(floquetmodes(x,i,wc1)[0][0]),0.0,Tf)\n",
    "    term2=integrate.romberg(lambda x: np.real(floquetmodes(x,i,wc1)[1][0]),0.0,Tf)+1.0j*integrate.romberg(lambda x: np.imag(floquetmodes(x,i,wc1)[1][0]),0.0,Tf)\n",
    "    term11=integrate.romberg(lambda x: np.real(floquetmodes(x,i,wc1)[0][1]),0.0,Tf)+1.0j*integrate.romberg(lambda x: np.imag(floquetmodes(x,i,wc1)[0][1]),0.0,Tf)\n",
    "    term21=integrate.romberg(lambda x: np.real(floquetmodes(x,i,wc1)[1][1]),0.0,Tf)+1.0j*integrate.romberg(lambda x: np.imag(floquetmodes(x,i,wc1)[1][1]),0.0,Tf)\n",
    "    fx1lst=np.append(fx1lst, [[term1,term11]])\n",
    "    fx2lst=np.append(fx2lst, [[term2,term21]])\n",
    "display(fx1lst)\n",
    "display(fx2lst)\n",
    "\n",
    "\n"
   ]
  },
  {
   "cell_type": "code",
   "execution_count": 33,
   "id": "126d4c22-3864-4576-866f-d94da8811ce2",
   "metadata": {},
   "outputs": [
    {
     "data": {
      "image/png": "[encoded data removed]",
      "text/plain": [
       "<Figure size 720x432 with 1 Axes>"
      ]
     },
     "metadata": {
      "needs_background": "light"
     },
     "output_type": "display_data"
    },
    {
     "data": {
      "image/png": "[encoded data removed]",
      "text/plain": [
       "<Figure size 720x432 with 1 Axes>"
      ]
     },
     "metadata": {
      "needs_background": "light"
     },
     "output_type": "display_data"
    }
   ],
   "source": [
    "\n",
    "f1m2=Qobj(np.array([fx1lst[0],fx1lst[1]],dtype=complex))\n",
    "f1m1=Qobj(np.array([fx1lst[2],fx1lst[3]],dtype=complex))\n",
    "f10=0.5*Qobj(np.array([fx1lst[4],fx1lst[5]],dtype=complex))\n",
    "f1p1=Qobj(np.array([fx1lst[6],fx1lst[7]],dtype=complex))\n",
    "f1p2=Qobj(np.array([fx1lst[8],fx1lst[9]],dtype=complex))\n",
    "\n",
    "f2m2=Qobj(np.array([fx2lst[0],fx2lst[1]],dtype=complex))\n",
    "f2m1=Qobj(np.array([fx2lst[2],fx2lst[3]],dtype=complex))\n",
    "f20=0.5*Qobj(np.array([fx2lst[4],fx2lst[5]],dtype=complex))\n",
    "f2p1=Qobj(np.array([fx2lst[6],fx2lst[7]],dtype=complex))\n",
    "f2p2=Qobj(np.array([fx2lst[8],fx2lst[9]],dtype=complex))\n",
    "\n",
    "\n",
    "H=[-argz['wmod']/2*sigmaz(),[sigmaz(),Fxd0]]\n",
    "\n",
    "Heval=QobjEvo(H, args=argz)\n",
    "\n",
    "tldata=np.linspace(0.0,Tf,1000)\n",
    "\n",
    "plt.rcParams['text.usetex'] = True\n",
    "\n",
    "fig, ax = plt.subplots(1,1)\n",
    "# Create multiple plots \n",
    "ax.plot(tldata , np.real([(f10.dag()*Heval(x)*f1p1)[0,0] for x in tldata]), 'r',label=r'$\\textbf{Re } p(-,0; -,+1)$')\n",
    "ax.plot(tldata , np.real([(f10.dag()*Heval(x)*f1m1)[0,0] for x in tldata]), 'b',label=r'$\\textbf{Re } p(-,0; -,-1)$')\n",
    "ax.plot(tldata , np.real([(f20.dag()*Heval(x)*f2p1)[0,0] for x in tldata]),'--', color='orange',label=r'$\\textbf{Re } p(+,0; +,+1)$')\n",
    "ax.plot(tldata , np.real([(f20.dag()*Heval(x)*f2m1)[0,0] for x in tldata]), '--',color='green',label=r'$\\textbf{Re } p(+,0; +,-1)$')\n",
    "ax.plot(tldata , np.imag([(f10.dag()*Heval(x)*f20)[0,0] for x in tldata]), color='purple',label=r'$\\textbf{Im } p(-,0; +,0)$')\n",
    "# Set title and labels\n",
    "\n",
    "ax.set_xlabel('Time (a.u.)')\n",
    "ax.set_ylabel('Probability Amplitude')\n",
    "# Add a legend\n",
    "pos = ax.get_position()\n",
    "ax.set_position([pos.x0, pos.y0, pos.width * 0.9, pos.height])\n",
    "ax.legend(loc='upper right', bbox_to_anchor=(1.25, 1.0))\n",
    "# Visualize the final plot\n",
    "fig.set_size_inches(10, 6,forward='True')\n",
    "fig.savefig('Transitionprobs.jpg', dpi=200)\n",
    "plt.show()\n",
    "\n",
    "\n",
    "\n",
    "\n",
    "fig, ax = plt.subplots(1,1)\n",
    "ax.plot(tldata , np.imag([(f1p1.dag()*Heval(x)*f2p1)[0,0] for x in tldata]),'--' 'b',label=r'$\\textbf{Im } p(-,+1; +,+1)$')\n",
    "ax.plot(tldata , np.imag([(f1m1.dag()*Heval(x)*f2m1)[0,0] for x in tldata]),'--', color='orange',label=r'$\\textbf{Im } p(-,-1; +,-1)$')\n",
    "ax.plot(tldata , np.imag([(f10.dag()*Heval(x)*f2p1)[0,0] for x in tldata]), '-',color='green',label=r'$\\textbf{Im } p(-,0; +,+1)$')\n",
    "ax.plot(tldata , np.imag([(f10.dag()*Heval(x)*f2m1)[0,0] for x in tldata]), '-',color='red',label=r'$\\textbf{Im } p(-,0; +,-1)$')\n",
    "ax.plot(tldata , np.imag([(f1m1.dag()*Heval(x)*f20)[0,0] for x in tldata]), '--',color='yellow',label=r'$\\textbf{Im } p(-,-1; +,0)$')\n",
    "ax.plot(tldata , np.imag([(f1p1.dag()*Heval(x)*f20)[0,0] for x in tldata]), '--',color='purple',label=r'$\\textbf{Im } p(-,+1; +,0)$')\n",
    "ax.plot(tldata , np.real([(f1p1.dag()*Heval(x)*f2p1)[0,0] for x in tldata]),'--' 'b',label=r'$\\textbf{Re } p(-,+1; +,+1)$')\n",
    "ax.plot(tldata , np.real([(f1m1.dag()*Heval(x)*f2m1)[0,0] for x in tldata]),'-', color='orange',label=r'$\\textbf{Re } p(-,-1; +,-1)$')\n",
    "ax.plot(tldata , np.real([(f10.dag()*Heval(x)*f2p1)[0,0] for x in tldata]), '-',color='lime',label=r'$\\textbf{Re } p(-,0; +,+1)$')\n",
    "ax.plot(tldata , np.real([(f10.dag()*Heval(x)*f2m1)[0,0] for x in tldata]), '-',color='magenta',label=r'$\\textbf{Re } p(-,0; +,-1)$')\n",
    "ax.plot(tldata , np.real([(f1m1.dag()*Heval(x)*f20)[0,0] for x in tldata]), '--',color='gold',label=r'$\\textbf{Re } p(-,-1; +,0)$')\n",
    "ax.plot(tldata , np.real([(f1p1.dag()*Heval(x)*f20)[0,0] for x in tldata]), '--',color='violet',label=r'$\\textbf{Re } p(-,+1; +,0)$')\n",
    "\n",
    "ax.set_xlabel('Time (a.u.)')\n",
    "ax.set_ylabel('Probability Amplitude')\n",
    "# Add a legend\n",
    "pos = ax.get_position()\n",
    "ax.set_position([pos.x0, pos.y0, pos.width * 0.9, pos.height])\n",
    "ax.legend(loc='upper right', bbox_to_anchor=(1.25, 1.0))\n",
    "# Visualize the final plot\n",
    "fig.set_size_inches(10, 6,forward='True')\n",
    "fig.savefig('Transitionprobs.jpg', dpi=200)\n",
    "plt.show()"
   ]
  },
  {
   "cell_type": "code",
   "execution_count": null,
   "id": "9f6ffb45-0c4c-41ca-b3d3-96aef76cdc49",
   "metadata": {
    "jupyter": {
     "source_hidden": true
    },
    "tags": []
   },
   "outputs": [],
   "source": [
    "plt.rcParams['text.usetex'] = True\n",
    "plt.plot(tldata , np.imag([(f10.dag()*Heval(x)*f2p1)[0,0] for x in tldata]), '--',color='green',label=r'$\\textbf{Im } p(-0\\rightarrow +,1)$')\n",
    "\n",
    "\n",
    "\n",
    "plt.xlabel('Time')\n",
    "plt.ylabel('Re p')\n",
    "plt.legend()\n",
    "plt.show()"
   ]
  },
  {
   "cell_type": "code",
   "execution_count": 19,
   "id": "b1b422b8-5044-4f6a-8714-f78af45c3a50",
   "metadata": {},
   "outputs": [
    {
     "data": {
      "text/plain": [
       "0.37328596076790643"
      ]
     },
     "metadata": {},
     "output_type": "display_data"
    }
   ],
   "source": [
    "display(integrate.romberg(lambda x: np.real(floquetmodes(x,0,wc1)[0][0]),0.0,Tf))"
   ]
  },
  {
   "cell_type": "code",
   "execution_count": null,
   "id": "938f6368-b0d6-4349-8e6f-8bf4f8dba898",
   "metadata": {},
   "outputs": [],
   "source": []
  }
 ],
 "metadata": {
  "kernelspec": {
   "display_name": "Python 3 (ipykernel)",
   "language": "python",
   "name": "python3"
  },
  "language_info": {
   "codemirror_mode": {
    "name": "ipython",
    "version": 3
   },
   "file_extension": ".py",
   "mimetype": "text/x-python",
   "name": "python",
   "nbconvert_exporter": "python",
   "pygments_lexer": "ipython3",
   "version": "3.8.12"
  }
 },
 "nbformat": 4,
 "nbformat_minor": 5
}
